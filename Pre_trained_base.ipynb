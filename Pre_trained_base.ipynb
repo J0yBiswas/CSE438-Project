{
 "cells": [
  {
   "cell_type": "markdown",
   "metadata": {},
   "source": [
    "Import Libraries"
   ]
  },
  {
   "cell_type": "code",
   "execution_count": 1,
   "metadata": {},
   "outputs": [],
   "source": [
    "import os\n",
    "import numpy as np\n",
    "import tensorflow as tf\n",
    "from tensorflow.keras.models import Model\n",
    "from tensorflow.keras.layers import Dense, Dropout, GlobalAveragePooling2D\n",
    "from tensorflow.keras.preprocessing.image import ImageDataGenerator\n",
    "from sklearn.model_selection import train_test_split\n",
    "from sklearn.utils import shuffle\n",
    "from tensorflow.keras.applications import (\n",
    "    InceptionResNetV2, NASNetMobile, NASNetLarge, Xception, DenseNet121, DenseNet169, DenseNet201, InceptionV3\n",
    ")"
   ]
  },
  {
   "cell_type": "markdown",
   "metadata": {},
   "source": [
    "Dataset Path"
   ]
  },
  {
   "cell_type": "code",
   "execution_count": 2,
   "metadata": {},
   "outputs": [],
   "source": [
    "# Dataset paths\n",
    "first_set_path = r'Dataset/First Set'\n",
    "second_set_path = r'Dataset/Second Set'\n",
    "\n",
    "# Image categories\n",
    "categories = ['Normal', 'OSCC']"
   ]
  },
  {
   "cell_type": "markdown",
   "metadata": {},
   "source": [
    "Load Image"
   ]
  },
  {
   "cell_type": "code",
   "execution_count": 3,
   "metadata": {},
   "outputs": [],
   "source": [
    "# Function to load images and labels\n",
    "def load_images_from_folder(folder_path, img_size=(224, 224)):\n",
    "    images = []\n",
    "    labels = []\n",
    "    for category in categories:\n",
    "        path = os.path.join(folder_path, category)\n",
    "        for img_name in os.listdir(path):\n",
    "            img_path = os.path.join(path, img_name)\n",
    "            img = tf.keras.preprocessing.image.load_img(img_path, target_size=img_size)\n",
    "            img_array = tf.keras.preprocessing.image.img_to_array(img) / 255.0\n",
    "            images.append(img_array)\n",
    "            labels.append(0 if category == 'Normal' else 1)\n",
    "    return np.array(images), np.array(labels)"
   ]
  },
  {
   "cell_type": "markdown",
   "metadata": {},
   "source": [
    "Data Augmentation"
   ]
  },
  {
   "cell_type": "code",
   "execution_count": 4,
   "metadata": {},
   "outputs": [],
   "source": [
    "# Data augmentation\n",
    "datagen = ImageDataGenerator(\n",
    "    rotation_range=10,\n",
    "    width_shift_range=0.1,\n",
    "    height_shift_range=0.1,\n",
    "    shear_range=0.15,\n",
    "    zoom_range=0.1,\n",
    "    horizontal_flip=True\n",
    ")"
   ]
  },
  {
   "cell_type": "markdown",
   "metadata": {},
   "source": [
    "Load and Combine Dataset"
   ]
  },
  {
   "cell_type": "code",
   "execution_count": 5,
   "metadata": {},
   "outputs": [],
   "source": [
    "# Load and combine datasets\n",
    "x_100x, y_100x = load_images_from_folder(first_set_path)\n",
    "x_400x, y_400x = load_images_from_folder(second_set_path)\n",
    "x_data = np.concatenate((x_100x, x_400x), axis=0)\n",
    "y_data = np.concatenate((y_100x, y_400x), axis=0)"
   ]
  },
  {
   "cell_type": "markdown",
   "metadata": {},
   "source": [
    "Shuffle and Split Dataset"
   ]
  },
  {
   "cell_type": "code",
   "execution_count": 6,
   "metadata": {},
   "outputs": [],
   "source": [
    "# Shuffle and split the dataset\n",
    "x_data, y_data = shuffle(x_data, y_data, random_state=42)\n",
    "x_train, x_test, y_train, y_test = train_test_split(x_data, y_data, test_size=0.2, random_state=42)\n",
    "train_datagen = datagen.flow(x_train, y_train, batch_size=16)"
   ]
  },
  {
   "cell_type": "markdown",
   "metadata": {},
   "source": [
    "Function to Build a Model"
   ]
  },
  {
   "cell_type": "code",
   "execution_count": 7,
   "metadata": {},
   "outputs": [],
   "source": [
    "# Function to build a model using a pre-trained base\n",
    "def build_model(base_model, img_size=(224, 224), dropout_rate=0.5):\n",
    "    base_model.trainable = False\n",
    "    inputs = tf.keras.Input(shape=(*img_size, 3))\n",
    "    x = base_model(inputs, training=False)\n",
    "    x = GlobalAveragePooling2D()(x)\n",
    "    x = Dropout(dropout_rate)(x)\n",
    "    outputs = Dense(1, activation='sigmoid')(x)\n",
    "    model = Model(inputs, outputs)\n",
    "    model.compile(optimizer='adam', loss='binary_crossentropy', metrics=['accuracy'])\n",
    "    return model"
   ]
  },
  {
   "cell_type": "markdown",
   "metadata": {},
   "source": [
    "1. InceptionResNetV2"
   ]
  },
  {
   "cell_type": "code",
   "execution_count": 8,
   "metadata": {},
   "outputs": [
    {
     "name": "stdout",
     "output_type": "stream",
     "text": [
      "\n",
      "Training with InceptionResNetV2...\n",
      "\n",
      "WARNING:tensorflow:From C:\\Users\\User\\AppData\\Local\\Packages\\PythonSoftwareFoundation.Python.3.11_qbz5n2kfra8p0\\LocalCache\\local-packages\\Python311\\site-packages\\keras\\src\\backend\\tensorflow\\core.py:216: The name tf.placeholder is deprecated. Please use tf.compat.v1.placeholder instead.\n",
      "\n",
      "Epoch 1/15\n"
     ]
    },
    {
     "name": "stderr",
     "output_type": "stream",
     "text": [
      "C:\\Users\\User\\AppData\\Local\\Packages\\PythonSoftwareFoundation.Python.3.11_qbz5n2kfra8p0\\LocalCache\\local-packages\\Python311\\site-packages\\keras\\src\\trainers\\data_adapters\\py_dataset_adapter.py:121: UserWarning: Your `PyDataset` class should call `super().__init__(**kwargs)` in its constructor. `**kwargs` can include `workers`, `use_multiprocessing`, `max_queue_size`. Do not pass these arguments to `fit()`, as they will be ignored.\n",
      "  self._warn_if_super_not_called()\n"
     ]
    },
    {
     "name": "stdout",
     "output_type": "stream",
     "text": [
      "\u001b[1m62/62\u001b[0m \u001b[32m━━━━━━━━━━━━━━━━━━━━\u001b[0m\u001b[37m\u001b[0m \u001b[1m37s\u001b[0m 466ms/step - accuracy: 0.6761 - loss: 0.6966 - val_accuracy: 0.7878 - val_loss: 0.4811\n",
      "Epoch 2/15\n",
      "\u001b[1m62/62\u001b[0m \u001b[32m━━━━━━━━━━━━━━━━━━━━\u001b[0m\u001b[37m\u001b[0m \u001b[1m25s\u001b[0m 399ms/step - accuracy: 0.7365 - loss: 0.5618 - val_accuracy: 0.7878 - val_loss: 0.4640\n",
      "Epoch 3/15\n",
      "\u001b[1m62/62\u001b[0m \u001b[32m━━━━━━━━━━━━━━━━━━━━\u001b[0m\u001b[37m\u001b[0m \u001b[1m24s\u001b[0m 385ms/step - accuracy: 0.7528 - loss: 0.5278 - val_accuracy: 0.8082 - val_loss: 0.4303\n",
      "Epoch 4/15\n",
      "\u001b[1m62/62\u001b[0m \u001b[32m━━━━━━━━━━━━━━━━━━━━\u001b[0m\u001b[37m\u001b[0m \u001b[1m23s\u001b[0m 378ms/step - accuracy: 0.7662 - loss: 0.4946 - val_accuracy: 0.8367 - val_loss: 0.4201\n",
      "Epoch 5/15\n",
      "\u001b[1m62/62\u001b[0m \u001b[32m━━━━━━━━━━━━━━━━━━━━\u001b[0m\u001b[37m\u001b[0m \u001b[1m25s\u001b[0m 397ms/step - accuracy: 0.7764 - loss: 0.4832 - val_accuracy: 0.8286 - val_loss: 0.4136\n",
      "Epoch 6/15\n",
      "\u001b[1m62/62\u001b[0m \u001b[32m━━━━━━━━━━━━━━━━━━━━\u001b[0m\u001b[37m\u001b[0m \u001b[1m24s\u001b[0m 394ms/step - accuracy: 0.7563 - loss: 0.5044 - val_accuracy: 0.8286 - val_loss: 0.4074\n",
      "Epoch 7/15\n",
      "\u001b[1m62/62\u001b[0m \u001b[32m━━━━━━━━━━━━━━━━━━━━\u001b[0m\u001b[37m\u001b[0m \u001b[1m24s\u001b[0m 393ms/step - accuracy: 0.7866 - loss: 0.4543 - val_accuracy: 0.8000 - val_loss: 0.4522\n",
      "Epoch 8/15\n",
      "\u001b[1m62/62\u001b[0m \u001b[32m━━━━━━━━━━━━━━━━━━━━\u001b[0m\u001b[37m\u001b[0m \u001b[1m24s\u001b[0m 384ms/step - accuracy: 0.7640 - loss: 0.5166 - val_accuracy: 0.8490 - val_loss: 0.4069\n",
      "Epoch 9/15\n",
      "\u001b[1m62/62\u001b[0m \u001b[32m━━━━━━━━━━━━━━━━━━━━\u001b[0m\u001b[37m\u001b[0m \u001b[1m25s\u001b[0m 399ms/step - accuracy: 0.7630 - loss: 0.4651 - val_accuracy: 0.8531 - val_loss: 0.4066\n",
      "Epoch 10/15\n",
      "\u001b[1m62/62\u001b[0m \u001b[32m━━━━━━━━━━━━━━━━━━━━\u001b[0m\u001b[37m\u001b[0m \u001b[1m25s\u001b[0m 404ms/step - accuracy: 0.7823 - loss: 0.4827 - val_accuracy: 0.8490 - val_loss: 0.3888\n",
      "Epoch 11/15\n",
      "\u001b[1m62/62\u001b[0m \u001b[32m━━━━━━━━━━━━━━━━━━━━\u001b[0m\u001b[37m\u001b[0m \u001b[1m25s\u001b[0m 397ms/step - accuracy: 0.7749 - loss: 0.4827 - val_accuracy: 0.8408 - val_loss: 0.3805\n",
      "Epoch 12/15\n",
      "\u001b[1m62/62\u001b[0m \u001b[32m━━━━━━━━━━━━━━━━━━━━\u001b[0m\u001b[37m\u001b[0m \u001b[1m24s\u001b[0m 395ms/step - accuracy: 0.8136 - loss: 0.4175 - val_accuracy: 0.8490 - val_loss: 0.3800\n",
      "Epoch 13/15\n",
      "\u001b[1m62/62\u001b[0m \u001b[32m━━━━━━━━━━━━━━━━━━━━\u001b[0m\u001b[37m\u001b[0m \u001b[1m24s\u001b[0m 389ms/step - accuracy: 0.8163 - loss: 0.4265 - val_accuracy: 0.8490 - val_loss: 0.3801\n",
      "Epoch 14/15\n",
      "\u001b[1m62/62\u001b[0m \u001b[32m━━━━━━━━━━━━━━━━━━━━\u001b[0m\u001b[37m\u001b[0m \u001b[1m25s\u001b[0m 404ms/step - accuracy: 0.8140 - loss: 0.4078 - val_accuracy: 0.8571 - val_loss: 0.3832\n",
      "Epoch 15/15\n",
      "\u001b[1m62/62\u001b[0m \u001b[32m━━━━━━━━━━━━━━━━━━━━\u001b[0m\u001b[37m\u001b[0m \u001b[1m24s\u001b[0m 382ms/step - accuracy: 0.7852 - loss: 0.4743 - val_accuracy: 0.8449 - val_loss: 0.3789\n"
     ]
    }
   ],
   "source": [
    "# InceptionResNetV2\n",
    "\n",
    "print(\"\\nTraining with InceptionResNetV2...\\n\")\n",
    "inception_resnet_model = build_model(InceptionResNetV2(weights='imagenet', include_top=False))\n",
    "inception_resnet_history = inception_resnet_model.fit(train_datagen, validation_data=(x_test, y_test), epochs=15)"
   ]
  },
  {
   "cell_type": "markdown",
   "metadata": {},
   "source": [
    "Import Libraries"
   ]
  },
  {
   "cell_type": "code",
   "execution_count": 9,
   "metadata": {},
   "outputs": [],
   "source": [
    "from sklearn.metrics import confusion_matrix, ConfusionMatrixDisplay, accuracy_score, precision_score, recall_score, f1_score, classification_report\n",
    "import numpy as np\n",
    "import matplotlib.pyplot as plt"
   ]
  },
  {
   "cell_type": "markdown",
   "metadata": {},
   "source": [
    "Model Prediction"
   ]
  },
  {
   "cell_type": "code",
   "execution_count": 10,
   "metadata": {},
   "outputs": [
    {
     "name": "stdout",
     "output_type": "stream",
     "text": [
      "\u001b[1m8/8\u001b[0m \u001b[32m━━━━━━━━━━━━━━━━━━━━\u001b[0m\u001b[37m\u001b[0m \u001b[1m10s\u001b[0m 988ms/step\n"
     ]
    }
   ],
   "source": [
    "# Get model predictions\n",
    "y_pred_prob = inception_resnet_model.predict(x_test)  # Probabilities\n",
    "y_pred = (y_pred_prob > 0.5).astype(int)  # Convert to binary predictions"
   ]
  },
  {
   "cell_type": "markdown",
   "metadata": {},
   "source": [
    "Confusion Matrics"
   ]
  },
  {
   "cell_type": "code",
   "execution_count": 11,
   "metadata": {},
   "outputs": [
    {
     "data": {
      "image/png": "[encoded data removed]",
      "text/plain": [
       "<Figure size 640x480 with 2 Axes>"
      ]
     },
     "metadata": {},
     "output_type": "display_data"
    }
   ],
   "source": [
    "# Generate confusion matrix\n",
    "cm = confusion_matrix(y_test, y_pred)\n",
    "\n",
    "# Display confusion matrix\n",
    "disp = ConfusionMatrixDisplay(confusion_matrix=cm, display_labels=[\"Normal\", \"OSCC\"])\n",
    "disp.plot(cmap=plt.cm.Blues)\n",
    "plt.title(\"Confusion Matrix\")\n",
    "plt.show()"
   ]
  },
  {
   "cell_type": "markdown",
   "metadata": {},
   "source": [
    "Evaluation Matrics"
   ]
  },
  {
   "cell_type": "code",
   "execution_count": 12,
   "metadata": {},
   "outputs": [
    {
     "name": "stdout",
     "output_type": "stream",
     "text": [
      "Metrics:\n",
      "Accuracy: 0.8449\n",
      "Precision: 0.8578\n",
      "Recall: 0.9577\n",
      "F1 Score: 0.9050\n"
     ]
    }
   ],
   "source": [
    "# Calculate metrics\n",
    "\n",
    "accuracy = accuracy_score(y_test, y_pred)\n",
    "precision = precision_score(y_test, y_pred)\n",
    "recall = recall_score(y_test, y_pred)\n",
    "f1 = f1_score(y_test, y_pred)\n",
    "\n",
    "# Print metrics\n",
    "print(\"Metrics:\")\n",
    "print(f\"Accuracy: {accuracy:.4f}\")\n",
    "print(f\"Precision: {precision:.4f}\")\n",
    "print(f\"Recall: {recall:.4f}\")\n",
    "print(f\"F1 Score: {f1:.4f}\")"
   ]
  },
  {
   "cell_type": "markdown",
   "metadata": {},
   "source": [
    "Classification Report"
   ]
  },
  {
   "cell_type": "code",
   "execution_count": 13,
   "metadata": {},
   "outputs": [
    {
     "name": "stdout",
     "output_type": "stream",
     "text": [
      "\n",
      "Classification Report:\n",
      "              precision    recall  f1-score   support\n",
      "\n",
      "      Normal       0.76      0.46      0.58        56\n",
      "        OSCC       0.86      0.96      0.91       189\n",
      "\n",
      "    accuracy                           0.84       245\n",
      "   macro avg       0.81      0.71      0.74       245\n",
      "weighted avg       0.84      0.84      0.83       245\n",
      "\n"
     ]
    }
   ],
   "source": [
    "# Optional: Classification report for detailed metrics\n",
    "\n",
    "print(\"\\nClassification Report:\")\n",
    "print(classification_report(y_test, y_pred, target_names=[\"Normal\", \"OSCC\"]))"
   ]
  },
  {
   "cell_type": "markdown",
   "metadata": {},
   "source": [
    "2. NASNetMobile"
   ]
  },
  {
   "cell_type": "code",
   "execution_count": 14,
   "metadata": {},
   "outputs": [
    {
     "name": "stdout",
     "output_type": "stream",
     "text": [
      "\n",
      "Training with NASNetMobile...\n",
      "\n",
      "Epoch 1/15\n",
      "\u001b[1m62/62\u001b[0m \u001b[32m━━━━━━━━━━━━━━━━━━━━\u001b[0m\u001b[37m\u001b[0m \u001b[1m23s\u001b[0m 226ms/step - accuracy: 0.7216 - loss: 0.6168 - val_accuracy: 0.7592 - val_loss: 0.5076\n",
      "Epoch 2/15\n",
      "\u001b[1m62/62\u001b[0m \u001b[32m━━━━━━━━━━━━━━━━━━━━\u001b[0m\u001b[37m\u001b[0m \u001b[1m11s\u001b[0m 172ms/step - accuracy: 0.7133 - loss: 0.5844 - val_accuracy: 0.7714 - val_loss: 0.4842\n",
      "Epoch 3/15\n",
      "\u001b[1m62/62\u001b[0m \u001b[32m━━━━━━━━━━━━━━━━━━━━\u001b[0m\u001b[37m\u001b[0m \u001b[1m11s\u001b[0m 177ms/step - accuracy: 0.7482 - loss: 0.5430 - val_accuracy: 0.7837 - val_loss: 0.4740\n",
      "Epoch 4/15\n",
      "\u001b[1m62/62\u001b[0m \u001b[32m━━━━━━━━━━━━━━━━━━━━\u001b[0m\u001b[37m\u001b[0m \u001b[1m11s\u001b[0m 180ms/step - accuracy: 0.7638 - loss: 0.5061 - val_accuracy: 0.8122 - val_loss: 0.4664\n",
      "Epoch 5/15\n",
      "\u001b[1m62/62\u001b[0m \u001b[32m━━━━━━━━━━━━━━━━━━━━\u001b[0m\u001b[37m\u001b[0m \u001b[1m11s\u001b[0m 178ms/step - accuracy: 0.7608 - loss: 0.5242 - val_accuracy: 0.7878 - val_loss: 0.4718\n",
      "Epoch 6/15\n",
      "\u001b[1m62/62\u001b[0m \u001b[32m━━━━━━━━━━━━━━━━━━━━\u001b[0m\u001b[37m\u001b[0m \u001b[1m11s\u001b[0m 178ms/step - accuracy: 0.7790 - loss: 0.4748 - val_accuracy: 0.8122 - val_loss: 0.4564\n",
      "Epoch 7/15\n",
      "\u001b[1m62/62\u001b[0m \u001b[32m━━━━━━━━━━━━━━━━━━━━\u001b[0m\u001b[37m\u001b[0m \u001b[1m11s\u001b[0m 178ms/step - accuracy: 0.7996 - loss: 0.4605 - val_accuracy: 0.8163 - val_loss: 0.4505\n",
      "Epoch 8/15\n",
      "\u001b[1m62/62\u001b[0m \u001b[32m━━━━━━━━━━━━━━━━━━━━\u001b[0m\u001b[37m\u001b[0m \u001b[1m10s\u001b[0m 169ms/step - accuracy: 0.7753 - loss: 0.4562 - val_accuracy: 0.8122 - val_loss: 0.4500\n",
      "Epoch 9/15\n",
      "\u001b[1m62/62\u001b[0m \u001b[32m━━━━━━━━━━━━━━━━━━━━\u001b[0m\u001b[37m\u001b[0m \u001b[1m12s\u001b[0m 191ms/step - accuracy: 0.7977 - loss: 0.4547 - val_accuracy: 0.8082 - val_loss: 0.4507\n",
      "Epoch 10/15\n",
      "\u001b[1m62/62\u001b[0m \u001b[32m━━━━━━━━━━━━━━━━━━━━\u001b[0m\u001b[37m\u001b[0m \u001b[1m11s\u001b[0m 181ms/step - accuracy: 0.8034 - loss: 0.4311 - val_accuracy: 0.8204 - val_loss: 0.4491\n",
      "Epoch 11/15\n",
      "\u001b[1m62/62\u001b[0m \u001b[32m━━━━━━━━━━━━━━━━━━━━\u001b[0m\u001b[37m\u001b[0m \u001b[1m11s\u001b[0m 174ms/step - accuracy: 0.7810 - loss: 0.4572 - val_accuracy: 0.8327 - val_loss: 0.4535\n",
      "Epoch 12/15\n",
      "\u001b[1m62/62\u001b[0m \u001b[32m━━━━━━━━━━━━━━━━━━━━\u001b[0m\u001b[37m\u001b[0m \u001b[1m10s\u001b[0m 168ms/step - accuracy: 0.7910 - loss: 0.4284 - val_accuracy: 0.8163 - val_loss: 0.4456\n",
      "Epoch 13/15\n",
      "\u001b[1m62/62\u001b[0m \u001b[32m━━━━━━━━━━━━━━━━━━━━\u001b[0m\u001b[37m\u001b[0m \u001b[1m11s\u001b[0m 174ms/step - accuracy: 0.7839 - loss: 0.4412 - val_accuracy: 0.8286 - val_loss: 0.4387\n",
      "Epoch 14/15\n",
      "\u001b[1m62/62\u001b[0m \u001b[32m━━━━━━━━━━━━━━━━━━━━\u001b[0m\u001b[37m\u001b[0m \u001b[1m11s\u001b[0m 178ms/step - accuracy: 0.8020 - loss: 0.4134 - val_accuracy: 0.8286 - val_loss: 0.4361\n",
      "Epoch 15/15\n",
      "\u001b[1m62/62\u001b[0m \u001b[32m━━━━━━━━━━━━━━━━━━━━\u001b[0m\u001b[37m\u001b[0m \u001b[1m11s\u001b[0m 176ms/step - accuracy: 0.8042 - loss: 0.4273 - val_accuracy: 0.8163 - val_loss: 0.4398\n"
     ]
    }
   ],
   "source": [
    "# NASNetMobile\n",
    "print(\"\\nTraining with NASNetMobile...\\n\")\n",
    "\n",
    "# Ensure the input size is set to 224x224\n",
    "nasnet_mobile_model = build_model(NASNetMobile(weights='imagenet', include_top=False, input_shape=(224, 224, 3)))\n",
    "nasnet_mobile_history = nasnet_mobile_model.fit(train_datagen, validation_data=(x_test, y_test), epochs=15)"
   ]
  },
  {
   "cell_type": "markdown",
   "metadata": {},
   "source": [
    "Model Prediction"
   ]
  },
  {
   "cell_type": "code",
   "execution_count": 15,
   "metadata": {},
   "outputs": [
    {
     "name": "stdout",
     "output_type": "stream",
     "text": [
      "\u001b[1m8/8\u001b[0m \u001b[32m━━━━━━━━━━━━━━━━━━━━\u001b[0m\u001b[37m\u001b[0m \u001b[1m7s\u001b[0m 643ms/step\n"
     ]
    }
   ],
   "source": [
    "# Get model predictions\n",
    "y_pred_prob = nasnet_mobile_model.predict(x_test)  # Probabilities\n",
    "y_pred = (y_pred_prob > 0.5).astype(int)  # Convert to binary predictions"
   ]
  },
  {
   "cell_type": "markdown",
   "metadata": {},
   "source": [
    "Confusion Matrics"
   ]
  },
  {
   "cell_type": "code",
   "execution_count": 16,
   "metadata": {},
   "outputs": [
    {
     "data": {
      "image/png": "[encoded data removed]",
      "text/plain": [
       "<Figure size 640x480 with 2 Axes>"
      ]
     },
     "metadata": {},
     "output_type": "display_data"
    }
   ],
   "source": [
    "# Generate confusion matrix\n",
    "cm = confusion_matrix(y_test, y_pred)\n",
    "\n",
    "# Display confusion matrix\n",
    "disp = ConfusionMatrixDisplay(confusion_matrix=cm, display_labels=[\"Normal\", \"OSCC\"])\n",
    "disp.plot(cmap=plt.cm.Blues)\n",
    "plt.title(\"Confusion Matrix\")\n",
    "plt.show()"
   ]
  },
  {
   "cell_type": "markdown",
   "metadata": {},
   "source": [
    "Evaluation Matrics"
   ]
  },
  {
   "cell_type": "code",
   "execution_count": 17,
   "metadata": {},
   "outputs": [
    {
     "name": "stdout",
     "output_type": "stream",
     "text": [
      "Metrics:\n",
      "Accuracy: 0.8163\n",
      "Precision: 0.8396\n",
      "Recall: 0.9418\n",
      "F1 Score: 0.8878\n"
     ]
    }
   ],
   "source": [
    "# Calculate metrics\n",
    "accuracy = accuracy_score(y_test, y_pred)\n",
    "precision = precision_score(y_test, y_pred)\n",
    "recall = recall_score(y_test, y_pred)\n",
    "f1 = f1_score(y_test, y_pred)\n",
    "\n",
    "# Print metrics\n",
    "print(\"Metrics:\")\n",
    "print(f\"Accuracy: {accuracy:.4f}\")\n",
    "print(f\"Precision: {precision:.4f}\")\n",
    "print(f\"Recall: {recall:.4f}\")\n",
    "print(f\"F1 Score: {f1:.4f}\")"
   ]
  },
  {
   "cell_type": "markdown",
   "metadata": {},
   "source": [
    "Classification Report"
   ]
  },
  {
   "cell_type": "code",
   "execution_count": 18,
   "metadata": {},
   "outputs": [
    {
     "name": "stdout",
     "output_type": "stream",
     "text": [
      "\n",
      "Classification Report:\n",
      "              precision    recall  f1-score   support\n",
      "\n",
      "      Normal       0.67      0.39      0.49        56\n",
      "        OSCC       0.84      0.94      0.89       189\n",
      "\n",
      "    accuracy                           0.82       245\n",
      "   macro avg       0.75      0.67      0.69       245\n",
      "weighted avg       0.80      0.82      0.80       245\n",
      "\n"
     ]
    }
   ],
   "source": [
    "# Optional: Classification report for detailed metrics\n",
    "\n",
    "print(\"\\nClassification Report:\")\n",
    "print(classification_report(y_test, y_pred, target_names=[\"Normal\", \"OSCC\"]))"
   ]
  },
  {
   "cell_type": "markdown",
   "metadata": {},
   "source": [
    "3. NASNetLarge"
   ]
  },
  {
   "cell_type": "code",
   "execution_count": 19,
   "metadata": {},
   "outputs": [
    {
     "name": "stdout",
     "output_type": "stream",
     "text": [
      "\n",
      "Training with NASNetLarge...\n",
      "\n",
      "Epoch 1/15\n",
      "\u001b[1m62/62\u001b[0m \u001b[32m━━━━━━━━━━━━━━━━━━━━\u001b[0m\u001b[37m\u001b[0m \u001b[1m94s\u001b[0m 1s/step - accuracy: 0.7049 - loss: 0.6209 - val_accuracy: 0.7878 - val_loss: 0.5117\n",
      "Epoch 2/15\n",
      "\u001b[1m62/62\u001b[0m \u001b[32m━━━━━━━━━━━━━━━━━━━━\u001b[0m\u001b[37m\u001b[0m \u001b[1m75s\u001b[0m 1s/step - accuracy: 0.7710 - loss: 0.5112 - val_accuracy: 0.7918 - val_loss: 0.4809\n",
      "Epoch 3/15\n",
      "\u001b[1m62/62\u001b[0m \u001b[32m━━━━━━━━━━━━━━━━━━━━\u001b[0m\u001b[37m\u001b[0m \u001b[1m76s\u001b[0m 1s/step - accuracy: 0.7864 - loss: 0.4629 - val_accuracy: 0.7959 - val_loss: 0.4598\n",
      "Epoch 4/15\n",
      "\u001b[1m62/62\u001b[0m \u001b[32m━━━━━━━━━━━━━━━━━━━━\u001b[0m\u001b[37m\u001b[0m \u001b[1m76s\u001b[0m 1s/step - accuracy: 0.7906 - loss: 0.4509 - val_accuracy: 0.8122 - val_loss: 0.4372\n",
      "Epoch 5/15\n",
      "\u001b[1m62/62\u001b[0m \u001b[32m━━━━━━━━━━━━━━━━━━━━\u001b[0m\u001b[37m\u001b[0m \u001b[1m77s\u001b[0m 1s/step - accuracy: 0.8301 - loss: 0.4023 - val_accuracy: 0.8122 - val_loss: 0.4368\n",
      "Epoch 6/15\n",
      "\u001b[1m62/62\u001b[0m \u001b[32m━━━━━━━━━━━━━━━━━━━━\u001b[0m\u001b[37m\u001b[0m \u001b[1m77s\u001b[0m 1s/step - accuracy: 0.7969 - loss: 0.4365 - val_accuracy: 0.8163 - val_loss: 0.4266\n",
      "Epoch 7/15\n",
      "\u001b[1m62/62\u001b[0m \u001b[32m━━━━━━━━━━━━━━━━━━━━\u001b[0m\u001b[37m\u001b[0m \u001b[1m75s\u001b[0m 1s/step - accuracy: 0.8102 - loss: 0.4195 - val_accuracy: 0.8082 - val_loss: 0.4234\n",
      "Epoch 8/15\n",
      "\u001b[1m62/62\u001b[0m \u001b[32m━━━━━━━━━━━━━━━━━━━━\u001b[0m\u001b[37m\u001b[0m \u001b[1m74s\u001b[0m 1s/step - accuracy: 0.8198 - loss: 0.3908 - val_accuracy: 0.8163 - val_loss: 0.4256\n",
      "Epoch 9/15\n",
      "\u001b[1m62/62\u001b[0m \u001b[32m━━━━━━━━━━━━━━━━━━━━\u001b[0m\u001b[37m\u001b[0m \u001b[1m74s\u001b[0m 1s/step - accuracy: 0.8080 - loss: 0.3968 - val_accuracy: 0.8245 - val_loss: 0.4221\n",
      "Epoch 10/15\n",
      "\u001b[1m62/62\u001b[0m \u001b[32m━━━━━━━━━━━━━━━━━━━━\u001b[0m\u001b[37m\u001b[0m \u001b[1m72s\u001b[0m 1s/step - accuracy: 0.7990 - loss: 0.4113 - val_accuracy: 0.8245 - val_loss: 0.4022\n",
      "Epoch 11/15\n",
      "\u001b[1m62/62\u001b[0m \u001b[32m━━━━━━━━━━━━━━━━━━━━\u001b[0m\u001b[37m\u001b[0m \u001b[1m72s\u001b[0m 1s/step - accuracy: 0.8253 - loss: 0.4006 - val_accuracy: 0.8286 - val_loss: 0.3958\n",
      "Epoch 12/15\n",
      "\u001b[1m62/62\u001b[0m \u001b[32m━━━━━━━━━━━━━━━━━━━━\u001b[0m\u001b[37m\u001b[0m \u001b[1m72s\u001b[0m 1s/step - accuracy: 0.8053 - loss: 0.3941 - val_accuracy: 0.8449 - val_loss: 0.3930\n",
      "Epoch 13/15\n",
      "\u001b[1m62/62\u001b[0m \u001b[32m━━━━━━━━━━━━━━━━━━━━\u001b[0m\u001b[37m\u001b[0m \u001b[1m72s\u001b[0m 1s/step - accuracy: 0.8419 - loss: 0.3822 - val_accuracy: 0.8367 - val_loss: 0.3926\n",
      "Epoch 14/15\n",
      "\u001b[1m62/62\u001b[0m \u001b[32m━━━━━━━━━━━━━━━━━━━━\u001b[0m\u001b[37m\u001b[0m \u001b[1m72s\u001b[0m 1s/step - accuracy: 0.8267 - loss: 0.3780 - val_accuracy: 0.8286 - val_loss: 0.3911\n",
      "Epoch 15/15\n",
      "\u001b[1m62/62\u001b[0m \u001b[32m━━━━━━━━━━━━━━━━━━━━\u001b[0m\u001b[37m\u001b[0m \u001b[1m72s\u001b[0m 1s/step - accuracy: 0.8410 - loss: 0.3677 - val_accuracy: 0.8367 - val_loss: 0.3906\n"
     ]
    }
   ],
   "source": [
    "# NASNetLarge\n",
    "\n",
    "print(\"\\nTraining with NASNetLarge...\\n\")\n",
    "nasnet_large_model = build_model(NASNetLarge(weights='imagenet', include_top=False, input_shape=(224, 224, 3)))\n",
    "nasnet_large_history = nasnet_large_model.fit(train_datagen, validation_data=(x_test, y_test), epochs=15)"
   ]
  },
  {
   "cell_type": "markdown",
   "metadata": {},
   "source": [
    "Model Prediction"
   ]
  },
  {
   "cell_type": "code",
   "execution_count": 20,
   "metadata": {},
   "outputs": [
    {
     "name": "stdout",
     "output_type": "stream",
     "text": [
      "WARNING:tensorflow:5 out of the last 17 calls to <function TensorFlowTrainer.make_predict_function.<locals>.one_step_on_data_distributed at 0x0000015A57E17100> triggered tf.function retracing. Tracing is expensive and the excessive number of tracings could be due to (1) creating @tf.function repeatedly in a loop, (2) passing tensors with different shapes, (3) passing Python objects instead of tensors. For (1), please define your @tf.function outside of the loop. For (2), @tf.function has reduce_retracing=True option that can avoid unnecessary retracing. For (3), please refer to https://www.tensorflow.org/guide/function#controlling_retracing and https://www.tensorflow.org/api_docs/python/tf/function for  more details.\n",
      "\u001b[1m8/8\u001b[0m \u001b[32m━━━━━━━━━━━━━━━━━━━━\u001b[0m\u001b[37m\u001b[0m \u001b[1m23s\u001b[0m 2s/step\n"
     ]
    }
   ],
   "source": [
    "# Get model predictions\n",
    "y_pred_prob = nasnet_large_model.predict(x_test)  # Probabilities\n",
    "y_pred = (y_pred_prob > 0.5).astype(int)  # Convert to binary predictions"
   ]
  },
  {
   "cell_type": "markdown",
   "metadata": {},
   "source": [
    "Confusion Matrics"
   ]
  },
  {
   "cell_type": "code",
   "execution_count": 21,
   "metadata": {},
   "outputs": [
    {
     "data": {
      "image/png": "[encoded data removed]",
      "text/plain": [
       "<Figure size 640x480 with 2 Axes>"
      ]
     },
     "metadata": {},
     "output_type": "display_data"
    }
   ],
   "source": [
    "# Generate confusion matrix\n",
    "cm = confusion_matrix(y_test, y_pred)\n",
    "\n",
    "# Display confusion matrix\n",
    "disp = ConfusionMatrixDisplay(confusion_matrix=cm, display_labels=[\"Normal\", \"OSCC\"])\n",
    "disp.plot(cmap=plt.cm.Blues)\n",
    "plt.title(\"Confusion Matrix\")\n",
    "plt.show()"
   ]
  },
  {
   "cell_type": "markdown",
   "metadata": {},
   "source": [
    "Evaluation Matrics"
   ]
  },
  {
   "cell_type": "code",
   "execution_count": 22,
   "metadata": {},
   "outputs": [
    {
     "name": "stdout",
     "output_type": "stream",
     "text": [
      "Metrics:\n",
      "Accuracy: 0.8367\n",
      "Precision: 0.8670\n",
      "Recall: 0.9312\n",
      "F1 Score: 0.8980\n"
     ]
    }
   ],
   "source": [
    "# Calculate metrics\n",
    "accuracy = accuracy_score(y_test, y_pred)\n",
    "precision = precision_score(y_test, y_pred)\n",
    "recall = recall_score(y_test, y_pred)\n",
    "f1 = f1_score(y_test, y_pred)\n",
    "\n",
    "# Print metrics\n",
    "print(\"Metrics:\")\n",
    "print(f\"Accuracy: {accuracy:.4f}\")\n",
    "print(f\"Precision: {precision:.4f}\")\n",
    "print(f\"Recall: {recall:.4f}\")\n",
    "print(f\"F1 Score: {f1:.4f}\")"
   ]
  },
  {
   "cell_type": "markdown",
   "metadata": {},
   "source": [
    "Claassification Report"
   ]
  },
  {
   "cell_type": "code",
   "execution_count": 23,
   "metadata": {},
   "outputs": [
    {
     "name": "stdout",
     "output_type": "stream",
     "text": [
      "\n",
      "Classification Report:\n",
      "              precision    recall  f1-score   support\n",
      "\n",
      "      Normal       0.69      0.52      0.59        56\n",
      "        OSCC       0.87      0.93      0.90       189\n",
      "\n",
      "    accuracy                           0.84       245\n",
      "   macro avg       0.78      0.72      0.74       245\n",
      "weighted avg       0.83      0.84      0.83       245\n",
      "\n"
     ]
    }
   ],
   "source": [
    "# Optional: Classification report for detailed metrics\n",
    "\n",
    "print(\"\\nClassification Report:\")\n",
    "print(classification_report(y_test, y_pred, target_names=[\"Normal\", \"OSCC\"]))"
   ]
  },
  {
   "cell_type": "markdown",
   "metadata": {},
   "source": [
    "4. Xception"
   ]
  },
  {
   "cell_type": "code",
   "execution_count": 24,
   "metadata": {},
   "outputs": [
    {
     "name": "stdout",
     "output_type": "stream",
     "text": [
      "\n",
      "Training with Xception...\n",
      "\n",
      "Epoch 1/15\n",
      "\u001b[1m62/62\u001b[0m \u001b[32m━━━━━━━━━━━━━━━━━━━━\u001b[0m\u001b[37m\u001b[0m \u001b[1m29s\u001b[0m 440ms/step - accuracy: 0.7052 - loss: 0.6131 - val_accuracy: 0.7837 - val_loss: 0.5042\n",
      "Epoch 2/15\n",
      "\u001b[1m62/62\u001b[0m \u001b[32m━━━━━━━━━━━━━━━━━━━━\u001b[0m\u001b[37m\u001b[0m \u001b[1m26s\u001b[0m 424ms/step - accuracy: 0.7698 - loss: 0.5184 - val_accuracy: 0.7755 - val_loss: 0.4716\n",
      "Epoch 3/15\n",
      "\u001b[1m62/62\u001b[0m \u001b[32m━━━━━━━━━━━━━━━━━━━━\u001b[0m\u001b[37m\u001b[0m \u001b[1m26s\u001b[0m 423ms/step - accuracy: 0.7631 - loss: 0.4794 - val_accuracy: 0.7878 - val_loss: 0.4494\n",
      "Epoch 4/15\n",
      "\u001b[1m62/62\u001b[0m \u001b[32m━━━━━━━━━━━━━━━━━━━━\u001b[0m\u001b[37m\u001b[0m \u001b[1m26s\u001b[0m 424ms/step - accuracy: 0.7806 - loss: 0.4748 - val_accuracy: 0.8122 - val_loss: 0.4297\n",
      "Epoch 5/15\n",
      "\u001b[1m62/62\u001b[0m \u001b[32m━━━━━━━━━━━━━━━━━━━━\u001b[0m\u001b[37m\u001b[0m \u001b[1m26s\u001b[0m 423ms/step - accuracy: 0.7952 - loss: 0.4566 - val_accuracy: 0.8122 - val_loss: 0.4180\n",
      "Epoch 6/15\n",
      "\u001b[1m62/62\u001b[0m \u001b[32m━━━━━━━━━━━━━━━━━━━━\u001b[0m\u001b[37m\u001b[0m \u001b[1m27s\u001b[0m 429ms/step - accuracy: 0.8050 - loss: 0.4517 - val_accuracy: 0.8122 - val_loss: 0.4099\n",
      "Epoch 7/15\n",
      "\u001b[1m62/62\u001b[0m \u001b[32m━━━━━━━━━━━━━━━━━━━━\u001b[0m\u001b[37m\u001b[0m \u001b[1m29s\u001b[0m 462ms/step - accuracy: 0.8105 - loss: 0.4160 - val_accuracy: 0.7959 - val_loss: 0.4091\n",
      "Epoch 8/15\n",
      "\u001b[1m62/62\u001b[0m \u001b[32m━━━━━━━━━━━━━━━━━━━━\u001b[0m\u001b[37m\u001b[0m \u001b[1m29s\u001b[0m 461ms/step - accuracy: 0.8035 - loss: 0.4414 - val_accuracy: 0.8122 - val_loss: 0.3942\n",
      "Epoch 9/15\n",
      "\u001b[1m62/62\u001b[0m \u001b[32m━━━━━━━━━━━━━━━━━━━━\u001b[0m\u001b[37m\u001b[0m \u001b[1m29s\u001b[0m 469ms/step - accuracy: 0.8097 - loss: 0.4190 - val_accuracy: 0.8245 - val_loss: 0.4000\n",
      "Epoch 10/15\n",
      "\u001b[1m62/62\u001b[0m \u001b[32m━━━━━━━━━━━━━━━━━━━━\u001b[0m\u001b[37m\u001b[0m \u001b[1m27s\u001b[0m 441ms/step - accuracy: 0.8082 - loss: 0.4353 - val_accuracy: 0.8245 - val_loss: 0.3869\n",
      "Epoch 11/15\n",
      "\u001b[1m62/62\u001b[0m \u001b[32m━━━━━━━━━━━━━━━━━━━━\u001b[0m\u001b[37m\u001b[0m \u001b[1m28s\u001b[0m 446ms/step - accuracy: 0.8279 - loss: 0.3986 - val_accuracy: 0.8245 - val_loss: 0.3810\n",
      "Epoch 12/15\n",
      "\u001b[1m62/62\u001b[0m \u001b[32m━━━━━━━━━━━━━━━━━━━━\u001b[0m\u001b[37m\u001b[0m \u001b[1m26s\u001b[0m 426ms/step - accuracy: 0.7855 - loss: 0.4381 - val_accuracy: 0.8204 - val_loss: 0.3762\n",
      "Epoch 13/15\n",
      "\u001b[1m62/62\u001b[0m \u001b[32m━━━━━━━━━━━━━━━━━━━━\u001b[0m\u001b[37m\u001b[0m \u001b[1m28s\u001b[0m 451ms/step - accuracy: 0.8233 - loss: 0.3746 - val_accuracy: 0.8286 - val_loss: 0.3751\n",
      "Epoch 14/15\n",
      "\u001b[1m62/62\u001b[0m \u001b[32m━━━━━━━━━━━━━━━━━━━━\u001b[0m\u001b[37m\u001b[0m \u001b[1m28s\u001b[0m 445ms/step - accuracy: 0.8189 - loss: 0.3949 - val_accuracy: 0.8204 - val_loss: 0.3717\n",
      "Epoch 15/15\n",
      "\u001b[1m62/62\u001b[0m \u001b[32m━━━━━━━━━━━━━━━━━━━━\u001b[0m\u001b[37m\u001b[0m \u001b[1m27s\u001b[0m 441ms/step - accuracy: 0.7906 - loss: 0.4239 - val_accuracy: 0.8286 - val_loss: 0.3665\n"
     ]
    }
   ],
   "source": [
    "# Xception\n",
    "\n",
    "print(\"\\nTraining with Xception...\\n\")\n",
    "xception_model = build_model(Xception(weights='imagenet', include_top=False, input_shape=(224, 224, 3)))\n",
    "xception_large_history = xception_model.fit(train_datagen, validation_data=(x_test, y_test), epochs=15)"
   ]
  },
  {
   "cell_type": "markdown",
   "metadata": {},
   "source": [
    "Model Prediction"
   ]
  },
  {
   "cell_type": "code",
   "execution_count": 25,
   "metadata": {},
   "outputs": [
    {
     "name": "stdout",
     "output_type": "stream",
     "text": [
      "WARNING:tensorflow:5 out of the last 17 calls to <function TensorFlowTrainer.make_predict_function.<locals>.one_step_on_data_distributed at 0x0000015A536AF740> triggered tf.function retracing. Tracing is expensive and the excessive number of tracings could be due to (1) creating @tf.function repeatedly in a loop, (2) passing tensors with different shapes, (3) passing Python objects instead of tensors. For (1), please define your @tf.function outside of the loop. For (2), @tf.function has reduce_retracing=True option that can avoid unnecessary retracing. For (3), please refer to https://www.tensorflow.org/guide/function#controlling_retracing and https://www.tensorflow.org/api_docs/python/tf/function for  more details.\n",
      "\u001b[1m8/8\u001b[0m \u001b[32m━━━━━━━━━━━━━━━━━━━━\u001b[0m\u001b[37m\u001b[0m \u001b[1m7s\u001b[0m 822ms/step\n"
     ]
    }
   ],
   "source": [
    "# Get model predictions\n",
    "y_pred_prob = xception_model.predict(x_test)  # Probabilities\n",
    "y_pred = (y_pred_prob > 0.5).astype(int)  # Convert to binary predictions"
   ]
  },
  {
   "cell_type": "markdown",
   "metadata": {},
   "source": [
    "Confusion Matrics"
   ]
  },
  {
   "cell_type": "code",
   "execution_count": 26,
   "metadata": {},
   "outputs": [
    {
     "data": {
      "image/png": "[encoded data removed]",
      "text/plain": [
       "<Figure size 640x480 with 2 Axes>"
      ]
     },
     "metadata": {},
     "output_type": "display_data"
    }
   ],
   "source": [
    "# Generate confusion matrix\n",
    "cm = confusion_matrix(y_test, y_pred)\n",
    "\n",
    "# Display confusion matrix\n",
    "disp = ConfusionMatrixDisplay(confusion_matrix=cm, display_labels=[\"Normal\", \"OSCC\"])\n",
    "disp.plot(cmap=plt.cm.Blues)\n",
    "plt.title(\"Confusion Matrix\")\n",
    "plt.show()"
   ]
  },
  {
   "cell_type": "markdown",
   "metadata": {},
   "source": [
    "Evaluation Matrics"
   ]
  },
  {
   "cell_type": "code",
   "execution_count": 27,
   "metadata": {},
   "outputs": [
    {
     "name": "stdout",
     "output_type": "stream",
     "text": [
      "Metrics:\n",
      "Accuracy: 0.8286\n",
      "Precision: 0.8585\n",
      "Recall: 0.9312\n",
      "F1 Score: 0.8934\n"
     ]
    }
   ],
   "source": [
    "# Calculate metrics\n",
    "accuracy = accuracy_score(y_test, y_pred)\n",
    "precision = precision_score(y_test, y_pred)\n",
    "recall = recall_score(y_test, y_pred)\n",
    "f1 = f1_score(y_test, y_pred)\n",
    "\n",
    "# Print metrics\n",
    "print(\"Metrics:\")\n",
    "print(f\"Accuracy: {accuracy:.4f}\")\n",
    "print(f\"Precision: {precision:.4f}\")\n",
    "print(f\"Recall: {recall:.4f}\")\n",
    "print(f\"F1 Score: {f1:.4f}\")"
   ]
  },
  {
   "cell_type": "markdown",
   "metadata": {},
   "source": [
    "Classification Report"
   ]
  },
  {
   "cell_type": "code",
   "execution_count": 28,
   "metadata": {},
   "outputs": [
    {
     "name": "stdout",
     "output_type": "stream",
     "text": [
      "\n",
      "Classification Report:\n",
      "              precision    recall  f1-score   support\n",
      "\n",
      "      Normal       0.68      0.48      0.56        56\n",
      "        OSCC       0.86      0.93      0.89       189\n",
      "\n",
      "    accuracy                           0.83       245\n",
      "   macro avg       0.77      0.71      0.73       245\n",
      "weighted avg       0.82      0.83      0.82       245\n",
      "\n"
     ]
    }
   ],
   "source": [
    "# Optional: Classification report for detailed metrics\n",
    "print(\"\\nClassification Report:\")\n",
    "print(classification_report(y_test, y_pred, target_names=[\"Normal\", \"OSCC\"]))"
   ]
  },
  {
   "cell_type": "markdown",
   "metadata": {},
   "source": [
    "5. DenseNet121"
   ]
  },
  {
   "cell_type": "code",
   "execution_count": 29,
   "metadata": {},
   "outputs": [
    {
     "name": "stdout",
     "output_type": "stream",
     "text": [
      "\n",
      "Training with DenseNet121...\n",
      "\n",
      "Epoch 1/15\n",
      "\u001b[1m62/62\u001b[0m \u001b[32m━━━━━━━━━━━━━━━━━━━━\u001b[0m\u001b[37m\u001b[0m \u001b[1m34s\u001b[0m 455ms/step - accuracy: 0.6662 - loss: 0.7322 - val_accuracy: 0.7510 - val_loss: 0.5163\n",
      "Epoch 2/15\n",
      "\u001b[1m62/62\u001b[0m \u001b[32m━━━━━━━━━━━━━━━━━━━━\u001b[0m\u001b[37m\u001b[0m \u001b[1m25s\u001b[0m 401ms/step - accuracy: 0.7321 - loss: 0.5754 - val_accuracy: 0.7633 - val_loss: 0.4778\n",
      "Epoch 3/15\n",
      "\u001b[1m62/62\u001b[0m \u001b[32m━━━━━━━━━━━━━━━━━━━━\u001b[0m\u001b[37m\u001b[0m \u001b[1m25s\u001b[0m 408ms/step - accuracy: 0.7590 - loss: 0.5485 - val_accuracy: 0.7878 - val_loss: 0.4611\n",
      "Epoch 4/15\n",
      "\u001b[1m62/62\u001b[0m \u001b[32m━━━━━━━━━━━━━━━━━━━━\u001b[0m\u001b[37m\u001b[0m \u001b[1m25s\u001b[0m 408ms/step - accuracy: 0.7544 - loss: 0.5180 - val_accuracy: 0.7918 - val_loss: 0.4458\n",
      "Epoch 5/15\n",
      "\u001b[1m62/62\u001b[0m \u001b[32m━━━━━━━━━━━━━━━━━━━━\u001b[0m\u001b[37m\u001b[0m \u001b[1m25s\u001b[0m 408ms/step - accuracy: 0.7590 - loss: 0.5315 - val_accuracy: 0.8122 - val_loss: 0.4419\n",
      "Epoch 6/15\n",
      "\u001b[1m62/62\u001b[0m \u001b[32m━━━━━━━━━━━━━━━━━━━━\u001b[0m\u001b[37m\u001b[0m \u001b[1m25s\u001b[0m 404ms/step - accuracy: 0.7952 - loss: 0.4739 - val_accuracy: 0.8163 - val_loss: 0.4277\n",
      "Epoch 7/15\n",
      "\u001b[1m62/62\u001b[0m \u001b[32m━━━━━━━━━━━━━━━━━━━━\u001b[0m\u001b[37m\u001b[0m \u001b[1m25s\u001b[0m 403ms/step - accuracy: 0.7614 - loss: 0.5021 - val_accuracy: 0.8000 - val_loss: 0.4217\n",
      "Epoch 8/15\n",
      "\u001b[1m62/62\u001b[0m \u001b[32m━━━━━━━━━━━━━━━━━━━━\u001b[0m\u001b[37m\u001b[0m \u001b[1m25s\u001b[0m 408ms/step - accuracy: 0.7681 - loss: 0.4969 - val_accuracy: 0.8286 - val_loss: 0.4159\n",
      "Epoch 9/15\n",
      "\u001b[1m62/62\u001b[0m \u001b[32m━━━━━━━━━━━━━━━━━━━━\u001b[0m\u001b[37m\u001b[0m \u001b[1m26s\u001b[0m 413ms/step - accuracy: 0.8000 - loss: 0.4336 - val_accuracy: 0.8327 - val_loss: 0.4117\n",
      "Epoch 10/15\n",
      "\u001b[1m62/62\u001b[0m \u001b[32m━━━━━━━━━━━━━━━━━━━━\u001b[0m\u001b[37m\u001b[0m \u001b[1m25s\u001b[0m 405ms/step - accuracy: 0.8104 - loss: 0.4040 - val_accuracy: 0.8367 - val_loss: 0.4068\n",
      "Epoch 11/15\n",
      "\u001b[1m62/62\u001b[0m \u001b[32m━━━━━━━━━━━━━━━━━━━━\u001b[0m\u001b[37m\u001b[0m \u001b[1m26s\u001b[0m 418ms/step - accuracy: 0.7892 - loss: 0.4542 - val_accuracy: 0.8122 - val_loss: 0.4058\n",
      "Epoch 12/15\n",
      "\u001b[1m62/62\u001b[0m \u001b[32m━━━━━━━━━━━━━━━━━━━━\u001b[0m\u001b[37m\u001b[0m \u001b[1m25s\u001b[0m 406ms/step - accuracy: 0.8081 - loss: 0.4101 - val_accuracy: 0.8286 - val_loss: 0.3973\n",
      "Epoch 13/15\n",
      "\u001b[1m62/62\u001b[0m \u001b[32m━━━━━━━━━━━━━━━━━━━━\u001b[0m\u001b[37m\u001b[0m \u001b[1m26s\u001b[0m 417ms/step - accuracy: 0.7977 - loss: 0.4521 - val_accuracy: 0.8327 - val_loss: 0.3962\n",
      "Epoch 14/15\n",
      "\u001b[1m62/62\u001b[0m \u001b[32m━━━━━━━━━━━━━━━━━━━━\u001b[0m\u001b[37m\u001b[0m \u001b[1m25s\u001b[0m 408ms/step - accuracy: 0.7755 - loss: 0.4770 - val_accuracy: 0.8367 - val_loss: 0.3959\n",
      "Epoch 15/15\n",
      "\u001b[1m62/62\u001b[0m \u001b[32m━━━━━━━━━━━━━━━━━━━━\u001b[0m\u001b[37m\u001b[0m \u001b[1m25s\u001b[0m 403ms/step - accuracy: 0.7863 - loss: 0.4412 - val_accuracy: 0.8367 - val_loss: 0.3890\n"
     ]
    }
   ],
   "source": [
    "# DenseNet121\n",
    "\n",
    "print(\"\\nTraining with DenseNet121...\\n\")\n",
    "denseNet121_model = build_model(DenseNet121(weights='imagenet', include_top=False, input_shape=(224, 224, 3)))\n",
    "denseNet121_history = denseNet121_model.fit(train_datagen, validation_data=(x_test, y_test), epochs=15)"
   ]
  },
  {
   "cell_type": "markdown",
   "metadata": {},
   "source": [
    "Model Prediction"
   ]
  },
  {
   "cell_type": "code",
   "execution_count": 30,
   "metadata": {},
   "outputs": [
    {
     "name": "stdout",
     "output_type": "stream",
     "text": [
      "\u001b[1m8/8\u001b[0m \u001b[32m━━━━━━━━━━━━━━━━━━━━\u001b[0m\u001b[37m\u001b[0m \u001b[1m9s\u001b[0m 934ms/step\n"
     ]
    }
   ],
   "source": [
    "# Get model predictions\n",
    "y_pred_prob = denseNet121_model.predict(x_test)  # Probabilities\n",
    "y_pred = (y_pred_prob > 0.5).astype(int)  # Convert to binary predictions"
   ]
  },
  {
   "cell_type": "markdown",
   "metadata": {},
   "source": [
    "Confusion Matrics"
   ]
  },
  {
   "cell_type": "code",
   "execution_count": 31,
   "metadata": {},
   "outputs": [
    {
     "data": {
      "image/png": "[encoded data removed]",
      "text/plain": [
       "<Figure size 640x480 with 2 Axes>"
      ]
     },
     "metadata": {},
     "output_type": "display_data"
    }
   ],
   "source": [
    "# Generate confusion matrix\n",
    "cm = confusion_matrix(y_test, y_pred)\n",
    "\n",
    "# Display confusion matrix\n",
    "disp = ConfusionMatrixDisplay(confusion_matrix=cm, display_labels=[\"Normal\", \"OSCC\"])\n",
    "disp.plot(cmap=plt.cm.Blues)\n",
    "plt.title(\"Confusion Matrix\")\n",
    "plt.show()"
   ]
  },
  {
   "cell_type": "markdown",
   "metadata": {},
   "source": [
    "Evaluation Matrics"
   ]
  },
  {
   "cell_type": "code",
   "execution_count": 32,
   "metadata": {},
   "outputs": [
    {
     "name": "stdout",
     "output_type": "stream",
     "text": [
      "Metrics:\n",
      "Accuracy: 0.8367\n",
      "Precision: 0.8465\n",
      "Recall: 0.9630\n",
      "F1 Score: 0.9010\n"
     ]
    }
   ],
   "source": [
    "# Calculate metrics\n",
    "accuracy = accuracy_score(y_test, y_pred)\n",
    "precision = precision_score(y_test, y_pred)\n",
    "recall = recall_score(y_test, y_pred)\n",
    "f1 = f1_score(y_test, y_pred)\n",
    "\n",
    "# Print metrics\n",
    "print(\"Metrics:\")\n",
    "print(f\"Accuracy: {accuracy:.4f}\")\n",
    "print(f\"Precision: {precision:.4f}\")\n",
    "print(f\"Recall: {recall:.4f}\")\n",
    "print(f\"F1 Score: {f1:.4f}\")"
   ]
  },
  {
   "cell_type": "markdown",
   "metadata": {},
   "source": [
    "Classification Report"
   ]
  },
  {
   "cell_type": "code",
   "execution_count": 33,
   "metadata": {},
   "outputs": [
    {
     "name": "stdout",
     "output_type": "stream",
     "text": [
      "\n",
      "Classification Report:\n",
      "              precision    recall  f1-score   support\n",
      "\n",
      "      Normal       0.77      0.41      0.53        56\n",
      "        OSCC       0.85      0.96      0.90       189\n",
      "\n",
      "    accuracy                           0.84       245\n",
      "   macro avg       0.81      0.69      0.72       245\n",
      "weighted avg       0.83      0.84      0.82       245\n",
      "\n"
     ]
    }
   ],
   "source": [
    "# Optional: Classification report for detailed metrics\n",
    "print(\"\\nClassification Report:\")\n",
    "print(classification_report(y_test, y_pred, target_names=[\"Normal\", \"OSCC\"]))"
   ]
  },
  {
   "cell_type": "markdown",
   "metadata": {},
   "source": [
    "6. DenseNet169"
   ]
  },
  {
   "cell_type": "code",
   "execution_count": 34,
   "metadata": {},
   "outputs": [
    {
     "name": "stdout",
     "output_type": "stream",
     "text": [
      "\n",
      "Training with DenseNet169...\n",
      "\n",
      "Epoch 1/15\n",
      "\u001b[1m62/62\u001b[0m \u001b[32m━━━━━━━━━━━━━━━━━━━━\u001b[0m\u001b[37m\u001b[0m \u001b[1m41s\u001b[0m 531ms/step - accuracy: 0.6770 - loss: 0.6905 - val_accuracy: 0.7837 - val_loss: 0.5078\n",
      "Epoch 2/15\n",
      "\u001b[1m62/62\u001b[0m \u001b[32m━━━━━━━━━━━━━━━━━━━━\u001b[0m\u001b[37m\u001b[0m \u001b[1m29s\u001b[0m 461ms/step - accuracy: 0.7498 - loss: 0.5603 - val_accuracy: 0.7837 - val_loss: 0.4969\n",
      "Epoch 3/15\n",
      "\u001b[1m62/62\u001b[0m \u001b[32m━━━━━━━━━━━━━━━━━━━━\u001b[0m\u001b[37m\u001b[0m \u001b[1m28s\u001b[0m 452ms/step - accuracy: 0.7569 - loss: 0.4898 - val_accuracy: 0.8163 - val_loss: 0.4466\n",
      "Epoch 4/15\n",
      "\u001b[1m62/62\u001b[0m \u001b[32m━━━━━━━━━━━━━━━━━━━━\u001b[0m\u001b[37m\u001b[0m \u001b[1m27s\u001b[0m 439ms/step - accuracy: 0.7806 - loss: 0.4761 - val_accuracy: 0.8041 - val_loss: 0.4469\n",
      "Epoch 5/15\n",
      "\u001b[1m62/62\u001b[0m \u001b[32m━━━━━━━━━━━━━━━━━━━━\u001b[0m\u001b[37m\u001b[0m \u001b[1m27s\u001b[0m 436ms/step - accuracy: 0.7706 - loss: 0.4709 - val_accuracy: 0.8082 - val_loss: 0.4191\n",
      "Epoch 6/15\n",
      "\u001b[1m62/62\u001b[0m \u001b[32m━━━━━━━━━━━━━━━━━━━━\u001b[0m\u001b[37m\u001b[0m \u001b[1m28s\u001b[0m 446ms/step - accuracy: 0.8018 - loss: 0.4595 - val_accuracy: 0.8041 - val_loss: 0.4098\n",
      "Epoch 7/15\n",
      "\u001b[1m62/62\u001b[0m \u001b[32m━━━━━━━━━━━━━━━━━━━━\u001b[0m\u001b[37m\u001b[0m \u001b[1m28s\u001b[0m 455ms/step - accuracy: 0.7712 - loss: 0.4633 - val_accuracy: 0.8082 - val_loss: 0.4067\n",
      "Epoch 8/15\n",
      "\u001b[1m62/62\u001b[0m \u001b[32m━━━━━━━━━━━━━━━━━━━━\u001b[0m\u001b[37m\u001b[0m \u001b[1m29s\u001b[0m 467ms/step - accuracy: 0.7904 - loss: 0.4519 - val_accuracy: 0.8163 - val_loss: 0.4128\n",
      "Epoch 9/15\n",
      "\u001b[1m62/62\u001b[0m \u001b[32m━━━━━━━━━━━━━━━━━━━━\u001b[0m\u001b[37m\u001b[0m \u001b[1m29s\u001b[0m 472ms/step - accuracy: 0.7873 - loss: 0.4463 - val_accuracy: 0.8163 - val_loss: 0.3930\n",
      "Epoch 10/15\n",
      "\u001b[1m62/62\u001b[0m \u001b[32m━━━━━━━━━━━━━━━━━━━━\u001b[0m\u001b[37m\u001b[0m \u001b[1m29s\u001b[0m 460ms/step - accuracy: 0.7978 - loss: 0.4482 - val_accuracy: 0.8286 - val_loss: 0.3996\n",
      "Epoch 11/15\n",
      "\u001b[1m62/62\u001b[0m \u001b[32m━━━━━━━━━━━━━━━━━━━━\u001b[0m\u001b[37m\u001b[0m \u001b[1m30s\u001b[0m 488ms/step - accuracy: 0.7949 - loss: 0.4403 - val_accuracy: 0.8163 - val_loss: 0.3862\n",
      "Epoch 12/15\n",
      "\u001b[1m62/62\u001b[0m \u001b[32m━━━━━━━━━━━━━━━━━━━━\u001b[0m\u001b[37m\u001b[0m \u001b[1m25s\u001b[0m 398ms/step - accuracy: 0.8108 - loss: 0.4137 - val_accuracy: 0.8163 - val_loss: 0.3922\n",
      "Epoch 13/15\n",
      "\u001b[1m62/62\u001b[0m \u001b[32m━━━━━━━━━━━━━━━━━━━━\u001b[0m\u001b[37m\u001b[0m \u001b[1m24s\u001b[0m 382ms/step - accuracy: 0.7642 - loss: 0.4665 - val_accuracy: 0.8327 - val_loss: 0.3939\n",
      "Epoch 14/15\n",
      "\u001b[1m62/62\u001b[0m \u001b[32m━━━━━━━━━━━━━━━━━━━━\u001b[0m\u001b[37m\u001b[0m \u001b[1m24s\u001b[0m 384ms/step - accuracy: 0.8291 - loss: 0.4045 - val_accuracy: 0.8367 - val_loss: 0.3796\n",
      "Epoch 15/15\n",
      "\u001b[1m62/62\u001b[0m \u001b[32m━━━━━━━━━━━━━━━━━━━━\u001b[0m\u001b[37m\u001b[0m \u001b[1m24s\u001b[0m 381ms/step - accuracy: 0.8119 - loss: 0.4184 - val_accuracy: 0.8327 - val_loss: 0.3834\n"
     ]
    }
   ],
   "source": [
    "# DenseNet169\n",
    "\n",
    "print(\"\\nTraining with DenseNet169...\\n\")\n",
    "denseNet169_model = build_model(DenseNet169(weights='imagenet', include_top=False, input_shape=(224, 224, 3)))\n",
    "denseNet169_history = denseNet169_model.fit(train_datagen, validation_data=(x_test, y_test), epochs=15)"
   ]
  },
  {
   "cell_type": "markdown",
   "metadata": {},
   "source": [
    "Model Prediction"
   ]
  },
  {
   "cell_type": "code",
   "execution_count": 35,
   "metadata": {},
   "outputs": [
    {
     "name": "stdout",
     "output_type": "stream",
     "text": [
      "\u001b[1m8/8\u001b[0m \u001b[32m━━━━━━━━━━━━━━━━━━━━\u001b[0m\u001b[37m\u001b[0m \u001b[1m10s\u001b[0m 1s/step  \n"
     ]
    }
   ],
   "source": [
    "# Get model predictions\n",
    "y_pred_prob = denseNet169_model.predict(x_test)  # Probabilities\n",
    "y_pred = (y_pred_prob > 0.5).astype(int)  # Convert to binary predictions"
   ]
  },
  {
   "cell_type": "markdown",
   "metadata": {},
   "source": [
    "Confussion Matrics"
   ]
  },
  {
   "cell_type": "code",
   "execution_count": 36,
   "metadata": {},
   "outputs": [
    {
     "data": {
      "image/png": "[encoded data removed]",
      "text/plain": [
       "<Figure size 640x480 with 2 Axes>"
      ]
     },
     "metadata": {},
     "output_type": "display_data"
    }
   ],
   "source": [
    "# Generate confusion matrix\n",
    "cm = confusion_matrix(y_test, y_pred)\n",
    "\n",
    "# Display confusion matrix\n",
    "disp = ConfusionMatrixDisplay(confusion_matrix=cm, display_labels=[\"Normal\", \"OSCC\"])\n",
    "disp.plot(cmap=plt.cm.Blues)\n",
    "plt.title(\"Confusion Matrix\")\n",
    "plt.show()"
   ]
  },
  {
   "cell_type": "markdown",
   "metadata": {},
   "source": [
    "Evaluation Matrics"
   ]
  },
  {
   "cell_type": "code",
   "execution_count": 37,
   "metadata": {},
   "outputs": [
    {
     "name": "stdout",
     "output_type": "stream",
     "text": [
      "Metrics:\n",
      "Accuracy: 0.8327\n",
      "Precision: 0.8458\n",
      "Recall: 0.9577\n",
      "F1 Score: 0.8983\n"
     ]
    }
   ],
   "source": [
    "# Calculate metrics\n",
    "accuracy = accuracy_score(y_test, y_pred)\n",
    "precision = precision_score(y_test, y_pred)\n",
    "recall = recall_score(y_test, y_pred)\n",
    "f1 = f1_score(y_test, y_pred)\n",
    "\n",
    "# Print metrics\n",
    "print(\"Metrics:\")\n",
    "print(f\"Accuracy: {accuracy:.4f}\")\n",
    "print(f\"Precision: {precision:.4f}\")\n",
    "print(f\"Recall: {recall:.4f}\")\n",
    "print(f\"F1 Score: {f1:.4f}\")"
   ]
  },
  {
   "cell_type": "markdown",
   "metadata": {},
   "source": [
    "Classification Report"
   ]
  },
  {
   "cell_type": "code",
   "execution_count": 38,
   "metadata": {},
   "outputs": [
    {
     "name": "stdout",
     "output_type": "stream",
     "text": [
      "\n",
      "Classification Report:\n",
      "              precision    recall  f1-score   support\n",
      "\n",
      "      Normal       0.74      0.41      0.53        56\n",
      "        OSCC       0.85      0.96      0.90       189\n",
      "\n",
      "    accuracy                           0.83       245\n",
      "   macro avg       0.79      0.68      0.71       245\n",
      "weighted avg       0.82      0.83      0.81       245\n",
      "\n"
     ]
    }
   ],
   "source": [
    "# Optional: Classification report for detailed metrics\n",
    "print(\"\\nClassification Report:\")\n",
    "print(classification_report(y_test, y_pred, target_names=[\"Normal\", \"OSCC\"]))"
   ]
  },
  {
   "cell_type": "markdown",
   "metadata": {},
   "source": [
    "7. DenseNet201"
   ]
  },
  {
   "cell_type": "code",
   "execution_count": 39,
   "metadata": {},
   "outputs": [
    {
     "name": "stdout",
     "output_type": "stream",
     "text": [
      "\n",
      "Training with DenseNet201...\n",
      "\n",
      "Epoch 1/15\n",
      "\u001b[1m62/62\u001b[0m \u001b[32m━━━━━━━━━━━━━━━━━━━━\u001b[0m\u001b[37m\u001b[0m \u001b[1m43s\u001b[0m 556ms/step - accuracy: 0.6851 - loss: 0.6962 - val_accuracy: 0.7837 - val_loss: 0.4848\n",
      "Epoch 2/15\n",
      "\u001b[1m62/62\u001b[0m \u001b[32m━━━━━━━━━━━━━━━━━━━━\u001b[0m\u001b[37m\u001b[0m \u001b[1m32s\u001b[0m 512ms/step - accuracy: 0.7751 - loss: 0.5107 - val_accuracy: 0.7918 - val_loss: 0.4409\n",
      "Epoch 3/15\n",
      "\u001b[1m62/62\u001b[0m \u001b[32m━━━━━━━━━━━━━━━━━━━━\u001b[0m\u001b[37m\u001b[0m \u001b[1m31s\u001b[0m 505ms/step - accuracy: 0.7693 - loss: 0.5356 - val_accuracy: 0.8082 - val_loss: 0.4484\n",
      "Epoch 4/15\n",
      "\u001b[1m62/62\u001b[0m \u001b[32m━━━━━━━━━━━━━━━━━━━━\u001b[0m\u001b[37m\u001b[0m \u001b[1m30s\u001b[0m 487ms/step - accuracy: 0.7630 - loss: 0.4982 - val_accuracy: 0.8245 - val_loss: 0.4148\n",
      "Epoch 5/15\n",
      "\u001b[1m62/62\u001b[0m \u001b[32m━━━━━━━━━━━━━━━━━━━━\u001b[0m\u001b[37m\u001b[0m \u001b[1m31s\u001b[0m 504ms/step - accuracy: 0.7846 - loss: 0.4536 - val_accuracy: 0.8163 - val_loss: 0.4061\n",
      "Epoch 6/15\n",
      "\u001b[1m62/62\u001b[0m \u001b[32m━━━━━━━━━━━━━━━━━━━━\u001b[0m\u001b[37m\u001b[0m \u001b[1m31s\u001b[0m 495ms/step - accuracy: 0.7995 - loss: 0.4483 - val_accuracy: 0.8286 - val_loss: 0.3918\n",
      "Epoch 7/15\n",
      "\u001b[1m62/62\u001b[0m \u001b[32m━━━━━━━━━━━━━━━━━━━━\u001b[0m\u001b[37m\u001b[0m \u001b[1m32s\u001b[0m 516ms/step - accuracy: 0.8145 - loss: 0.4282 - val_accuracy: 0.8245 - val_loss: 0.3846\n",
      "Epoch 8/15\n",
      "\u001b[1m62/62\u001b[0m \u001b[32m━━━━━━━━━━━━━━━━━━━━\u001b[0m\u001b[37m\u001b[0m \u001b[1m32s\u001b[0m 515ms/step - accuracy: 0.7881 - loss: 0.4342 - val_accuracy: 0.8245 - val_loss: 0.3785\n",
      "Epoch 9/15\n",
      "\u001b[1m62/62\u001b[0m \u001b[32m━━━━━━━━━━━━━━━━━━━━\u001b[0m\u001b[37m\u001b[0m \u001b[1m32s\u001b[0m 523ms/step - accuracy: 0.8090 - loss: 0.4026 - val_accuracy: 0.8408 - val_loss: 0.3788\n",
      "Epoch 10/15\n",
      "\u001b[1m62/62\u001b[0m \u001b[32m━━━━━━━━━━━━━━━━━━━━\u001b[0m\u001b[37m\u001b[0m \u001b[1m32s\u001b[0m 515ms/step - accuracy: 0.8075 - loss: 0.4171 - val_accuracy: 0.8367 - val_loss: 0.3678\n",
      "Epoch 11/15\n",
      "\u001b[1m62/62\u001b[0m \u001b[32m━━━━━━━━━━━━━━━━━━━━\u001b[0m\u001b[37m\u001b[0m \u001b[1m32s\u001b[0m 511ms/step - accuracy: 0.8258 - loss: 0.3889 - val_accuracy: 0.8449 - val_loss: 0.3660\n",
      "Epoch 12/15\n",
      "\u001b[1m62/62\u001b[0m \u001b[32m━━━━━━━━━━━━━━━━━━━━\u001b[0m\u001b[37m\u001b[0m \u001b[1m33s\u001b[0m 527ms/step - accuracy: 0.8482 - loss: 0.3620 - val_accuracy: 0.8408 - val_loss: 0.3803\n",
      "Epoch 13/15\n",
      "\u001b[1m62/62\u001b[0m \u001b[32m━━━━━━━━━━━━━━━━━━━━\u001b[0m\u001b[37m\u001b[0m \u001b[1m30s\u001b[0m 493ms/step - accuracy: 0.8251 - loss: 0.4009 - val_accuracy: 0.8612 - val_loss: 0.3547\n",
      "Epoch 14/15\n",
      "\u001b[1m62/62\u001b[0m \u001b[32m━━━━━━━━━━━━━━━━━━━━\u001b[0m\u001b[37m\u001b[0m \u001b[1m30s\u001b[0m 491ms/step - accuracy: 0.7917 - loss: 0.4142 - val_accuracy: 0.8531 - val_loss: 0.3615\n",
      "Epoch 15/15\n",
      "\u001b[1m62/62\u001b[0m \u001b[32m━━━━━━━━━━━━━━━━━━━━\u001b[0m\u001b[37m\u001b[0m \u001b[1m30s\u001b[0m 489ms/step - accuracy: 0.8088 - loss: 0.4046 - val_accuracy: 0.8204 - val_loss: 0.3748\n"
     ]
    }
   ],
   "source": [
    "# DenseNet201\n",
    "\n",
    "print(\"\\nTraining with DenseNet201...\\n\")\n",
    "denseNet201_model = build_model(DenseNet201(weights='imagenet', include_top=False, input_shape=(224, 224, 3)))\n",
    "denseNet201_history = denseNet201_model.fit(train_datagen, validation_data=(x_test, y_test), epochs=15)"
   ]
  },
  {
   "cell_type": "markdown",
   "metadata": {},
   "source": [
    "Model Prediction"
   ]
  },
  {
   "cell_type": "code",
   "execution_count": 40,
   "metadata": {},
   "outputs": [
    {
     "name": "stdout",
     "output_type": "stream",
     "text": [
      "\u001b[1m8/8\u001b[0m \u001b[32m━━━━━━━━━━━━━━━━━━━━\u001b[0m\u001b[37m\u001b[0m \u001b[1m13s\u001b[0m 1s/step \n"
     ]
    }
   ],
   "source": [
    "# Get model predictions\n",
    "y_pred_prob = denseNet201_model.predict(x_test)  # Probabilities\n",
    "y_pred = (y_pred_prob > 0.5).astype(int)  # Convert to binary predictions"
   ]
  },
  {
   "cell_type": "markdown",
   "metadata": {},
   "source": [
    "Confussion Matrics"
   ]
  },
  {
   "cell_type": "code",
   "execution_count": 41,
   "metadata": {},
   "outputs": [
    {
     "data": {
      "image/png": "[encoded data removed]",
      "text/plain": [
       "<Figure size 640x480 with 2 Axes>"
      ]
     },
     "metadata": {},
     "output_type": "display_data"
    }
   ],
   "source": [
    "# Generate confusion matrix\n",
    "cm = confusion_matrix(y_test, y_pred)\n",
    "\n",
    "# Display confusion matrix\n",
    "disp = ConfusionMatrixDisplay(confusion_matrix=cm, display_labels=[\"Normal\", \"OSCC\"])\n",
    "disp.plot(cmap=plt.cm.Blues)\n",
    "plt.title(\"Confusion Matrix\")\n",
    "plt.show()"
   ]
  },
  {
   "cell_type": "markdown",
   "metadata": {},
   "source": [
    "Evaluation Matrics"
   ]
  },
  {
   "cell_type": "code",
   "execution_count": 42,
   "metadata": {},
   "outputs": [
    {
     "name": "stdout",
     "output_type": "stream",
     "text": [
      "Metrics:\n",
      "Accuracy: 0.8204\n",
      "Precision: 0.9050\n",
      "Recall: 0.8571\n",
      "F1 Score: 0.8804\n"
     ]
    }
   ],
   "source": [
    "# Calculate metrics\n",
    "accuracy = accuracy_score(y_test, y_pred)\n",
    "precision = precision_score(y_test, y_pred)\n",
    "recall = recall_score(y_test, y_pred)\n",
    "f1 = f1_score(y_test, y_pred)\n",
    "\n",
    "# Print metrics\n",
    "print(\"Metrics:\")\n",
    "print(f\"Accuracy: {accuracy:.4f}\")\n",
    "print(f\"Precision: {precision:.4f}\")\n",
    "print(f\"Recall: {recall:.4f}\")\n",
    "print(f\"F1 Score: {f1:.4f}\")"
   ]
  },
  {
   "cell_type": "markdown",
   "metadata": {},
   "source": [
    "Claasification Report"
   ]
  },
  {
   "cell_type": "code",
   "execution_count": 43,
   "metadata": {},
   "outputs": [
    {
     "name": "stdout",
     "output_type": "stream",
     "text": [
      "\n",
      "Classification Report:\n",
      "              precision    recall  f1-score   support\n",
      "\n",
      "      Normal       0.59      0.70      0.64        56\n",
      "        OSCC       0.91      0.86      0.88       189\n",
      "\n",
      "    accuracy                           0.82       245\n",
      "   macro avg       0.75      0.78      0.76       245\n",
      "weighted avg       0.83      0.82      0.83       245\n",
      "\n"
     ]
    }
   ],
   "source": [
    "# Optional: Classification report for detailed metrics\n",
    "print(\"\\nClassification Report:\")\n",
    "print(classification_report(y_test, y_pred, target_names=[\"Normal\", \"OSCC\"]))"
   ]
  },
  {
   "cell_type": "markdown",
   "metadata": {},
   "source": [
    "8. InceptionV3"
   ]
  },
  {
   "cell_type": "code",
   "execution_count": 44,
   "metadata": {},
   "outputs": [
    {
     "name": "stdout",
     "output_type": "stream",
     "text": [
      "\n",
      "Training with InceptionV3...\n",
      "\n",
      "Epoch 1/15\n",
      "\u001b[1m62/62\u001b[0m \u001b[32m━━━━━━━━━━━━━━━━━━━━\u001b[0m\u001b[37m\u001b[0m \u001b[1m15s\u001b[0m 196ms/step - accuracy: 0.6724 - loss: 0.7228 - val_accuracy: 0.7673 - val_loss: 0.4855\n",
      "Epoch 2/15\n",
      "\u001b[1m62/62\u001b[0m \u001b[32m━━━━━━━━━━━━━━━━━━━━\u001b[0m\u001b[37m\u001b[0m \u001b[1m11s\u001b[0m 173ms/step - accuracy: 0.7437 - loss: 0.5505 - val_accuracy: 0.7918 - val_loss: 0.4326\n",
      "Epoch 3/15\n",
      "\u001b[1m62/62\u001b[0m \u001b[32m━━━━━━━━━━━━━━━━━━━━\u001b[0m\u001b[37m\u001b[0m \u001b[1m11s\u001b[0m 175ms/step - accuracy: 0.7478 - loss: 0.5308 - val_accuracy: 0.7837 - val_loss: 0.4147\n",
      "Epoch 4/15\n",
      "\u001b[1m62/62\u001b[0m \u001b[32m━━━━━━━━━━━━━━━━━━━━\u001b[0m\u001b[37m\u001b[0m \u001b[1m11s\u001b[0m 174ms/step - accuracy: 0.7531 - loss: 0.5156 - val_accuracy: 0.8000 - val_loss: 0.4013\n",
      "Epoch 5/15\n",
      "\u001b[1m62/62\u001b[0m \u001b[32m━━━━━━━━━━━━━━━━━━━━\u001b[0m\u001b[37m\u001b[0m \u001b[1m11s\u001b[0m 173ms/step - accuracy: 0.7838 - loss: 0.4782 - val_accuracy: 0.8082 - val_loss: 0.3892\n",
      "Epoch 6/15\n",
      "\u001b[1m62/62\u001b[0m \u001b[32m━━━━━━━━━━━━━━━━━━━━\u001b[0m\u001b[37m\u001b[0m \u001b[1m11s\u001b[0m 171ms/step - accuracy: 0.7688 - loss: 0.4795 - val_accuracy: 0.8204 - val_loss: 0.3839\n",
      "Epoch 7/15\n",
      "\u001b[1m62/62\u001b[0m \u001b[32m━━━━━━━━━━━━━━━━━━━━\u001b[0m\u001b[37m\u001b[0m \u001b[1m11s\u001b[0m 169ms/step - accuracy: 0.7657 - loss: 0.5000 - val_accuracy: 0.8122 - val_loss: 0.3872\n",
      "Epoch 8/15\n",
      "\u001b[1m62/62\u001b[0m \u001b[32m━━━━━━━━━━━━━━━━━━━━\u001b[0m\u001b[37m\u001b[0m \u001b[1m11s\u001b[0m 170ms/step - accuracy: 0.7755 - loss: 0.4729 - val_accuracy: 0.8245 - val_loss: 0.3642\n",
      "Epoch 9/15\n",
      "\u001b[1m62/62\u001b[0m \u001b[32m━━━━━━━━━━━━━━━━━━━━\u001b[0m\u001b[37m\u001b[0m \u001b[1m11s\u001b[0m 169ms/step - accuracy: 0.7813 - loss: 0.4888 - val_accuracy: 0.8122 - val_loss: 0.4214\n",
      "Epoch 10/15\n",
      "\u001b[1m62/62\u001b[0m \u001b[32m━━━━━━━━━━━━━━━━━━━━\u001b[0m\u001b[37m\u001b[0m \u001b[1m11s\u001b[0m 170ms/step - accuracy: 0.7909 - loss: 0.4512 - val_accuracy: 0.8041 - val_loss: 0.3780\n",
      "Epoch 11/15\n",
      "\u001b[1m62/62\u001b[0m \u001b[32m━━━━━━━━━━━━━━━━━━━━\u001b[0m\u001b[37m\u001b[0m \u001b[1m12s\u001b[0m 189ms/step - accuracy: 0.7765 - loss: 0.4615 - val_accuracy: 0.8327 - val_loss: 0.3570\n",
      "Epoch 12/15\n",
      "\u001b[1m62/62\u001b[0m \u001b[32m━━━━━━━━━━━━━━━━━━━━\u001b[0m\u001b[37m\u001b[0m \u001b[1m12s\u001b[0m 186ms/step - accuracy: 0.8115 - loss: 0.4383 - val_accuracy: 0.8408 - val_loss: 0.3583\n",
      "Epoch 13/15\n",
      "\u001b[1m62/62\u001b[0m \u001b[32m━━━━━━━━━━━━━━━━━━━━\u001b[0m\u001b[37m\u001b[0m \u001b[1m12s\u001b[0m 191ms/step - accuracy: 0.8111 - loss: 0.4309 - val_accuracy: 0.8286 - val_loss: 0.3597\n",
      "Epoch 14/15\n",
      "\u001b[1m62/62\u001b[0m \u001b[32m━━━━━━━━━━━━━━━━━━━━\u001b[0m\u001b[37m\u001b[0m \u001b[1m12s\u001b[0m 190ms/step - accuracy: 0.7747 - loss: 0.4439 - val_accuracy: 0.8449 - val_loss: 0.3418\n",
      "Epoch 15/15\n",
      "\u001b[1m62/62\u001b[0m \u001b[32m━━━━━━━━━━━━━━━━━━━━\u001b[0m\u001b[37m\u001b[0m \u001b[1m12s\u001b[0m 187ms/step - accuracy: 0.7861 - loss: 0.4603 - val_accuracy: 0.8490 - val_loss: 0.3369\n"
     ]
    }
   ],
   "source": [
    "# InceptionV3\n",
    "\n",
    "print(\"\\nTraining with InceptionV3...\\n\")\n",
    "inceptionV3_model = build_model(InceptionV3(weights='imagenet', include_top=False, input_shape=(224, 224, 3)))\n",
    "inceptionV3_history = inceptionV3_model.fit(train_datagen, validation_data=(x_test, y_test), epochs=15)"
   ]
  },
  {
   "cell_type": "markdown",
   "metadata": {},
   "source": [
    "Model Prediction"
   ]
  },
  {
   "cell_type": "code",
   "execution_count": 45,
   "metadata": {},
   "outputs": [
    {
     "name": "stdout",
     "output_type": "stream",
     "text": [
      "\u001b[1m8/8\u001b[0m \u001b[32m━━━━━━━━━━━━━━━━━━━━\u001b[0m\u001b[37m\u001b[0m \u001b[1m4s\u001b[0m 424ms/step\n"
     ]
    }
   ],
   "source": [
    "# Get model predictions\n",
    "y_pred_prob = inceptionV3_model.predict(x_test)  # Probabilities\n",
    "y_pred = (y_pred_prob > 0.5).astype(int)  # Convert to binary predictions"
   ]
  },
  {
   "cell_type": "markdown",
   "metadata": {},
   "source": [
    "Confussion Matrics"
   ]
  },
  {
   "cell_type": "code",
   "execution_count": 46,
   "metadata": {},
   "outputs": [
    {
     "data": {
      "image/png": "[encoded data removed]",
      "text/plain": [
       "<Figure size 640x480 with 2 Axes>"
      ]
     },
     "metadata": {},
     "output_type": "display_data"
    }
   ],
   "source": [
    "# Generate confusion matrix\n",
    "cm = confusion_matrix(y_test, y_pred)\n",
    "\n",
    "# Display confusion matrix\n",
    "disp = ConfusionMatrixDisplay(confusion_matrix=cm, display_labels=[\"Normal\", \"OSCC\"])\n",
    "disp.plot(cmap=plt.cm.Blues)\n",
    "plt.title(\"Confusion Matrix\")\n",
    "plt.show()"
   ]
  },
  {
   "cell_type": "markdown",
   "metadata": {},
   "source": [
    "Evaluation Matrics"
   ]
  },
  {
   "cell_type": "code",
   "execution_count": 47,
   "metadata": {},
   "outputs": [
    {
     "name": "stdout",
     "output_type": "stream",
     "text": [
      "Metrics:\n",
      "Accuracy: 0.8490\n",
      "Precision: 0.8619\n",
      "Recall: 0.9577\n",
      "F1 Score: 0.9073\n"
     ]
    }
   ],
   "source": [
    "# Calculate metrics\n",
    "accuracy = accuracy_score(y_test, y_pred)\n",
    "precision = precision_score(y_test, y_pred)\n",
    "recall = recall_score(y_test, y_pred)\n",
    "f1 = f1_score(y_test, y_pred)\n",
    "\n",
    "# Print metrics\n",
    "print(\"Metrics:\")\n",
    "print(f\"Accuracy: {accuracy:.4f}\")\n",
    "print(f\"Precision: {precision:.4f}\")\n",
    "print(f\"Recall: {recall:.4f}\")\n",
    "print(f\"F1 Score: {f1:.4f}\")"
   ]
  },
  {
   "cell_type": "markdown",
   "metadata": {},
   "source": [
    "Classification Matrics"
   ]
  },
  {
   "cell_type": "code",
   "execution_count": 48,
   "metadata": {},
   "outputs": [
    {
     "name": "stdout",
     "output_type": "stream",
     "text": [
      "\n",
      "Classification Report:\n",
      "              precision    recall  f1-score   support\n",
      "\n",
      "      Normal       0.77      0.48      0.59        56\n",
      "        OSCC       0.86      0.96      0.91       189\n",
      "\n",
      "    accuracy                           0.85       245\n",
      "   macro avg       0.82      0.72      0.75       245\n",
      "weighted avg       0.84      0.85      0.84       245\n",
      "\n"
     ]
    }
   ],
   "source": [
    "# Optional: Classification report for detailed metrics\n",
    "print(\"\\nClassification Report:\")\n",
    "print(classification_report(y_test, y_pred, target_names=[\"Normal\", \"OSCC\"]))"
   ]
  }
 ],
 "metadata": {
  "kernelspec": {
   "display_name": "Python 3",
   "language": "python",
   "name": "python3"
  },
  "language_info": {
   "codemirror_mode": {
    "name": "ipython",
    "version": 3
   },
   "file_extension": ".py",
   "mimetype": "text/x-python",
   "name": "python",
   "nbconvert_exporter": "python",
   "pygments_lexer": "ipython3",
   "version": "3.11.9"
  }
 },
 "nbformat": 4,
 "nbformat_minor": 2
}
